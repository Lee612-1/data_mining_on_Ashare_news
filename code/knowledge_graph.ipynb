{
 "cells": [
  {
   "cell_type": "code",
   "execution_count": 33,
   "id": "initial_id",
   "metadata": {
    "collapsed": true,
    "ExecuteTime": {
     "end_time": "2023-11-01T19:24:03.937565200Z",
     "start_time": "2023-11-01T19:24:03.856940600Z"
    }
   },
   "outputs": [],
   "source": [
    "import pandas as pd\n",
    "from py2neo import Graph, Node, Relationship, NodeMatcher"
   ]
  },
  {
   "cell_type": "markdown",
   "source": [
    "# Task2Q3: Constructing a Knowledge Graph"
   ],
   "metadata": {
    "collapsed": false
   },
   "id": "4b3c581297c3dca9"
  },
  {
   "cell_type": "code",
   "execution_count": null,
   "outputs": [],
   "source": [
    "# auth=('username', 'key')\n",
    "graph = Graph('http://localhost:7474', auth=(\"neo4j\", \"lee618121\"), name='neo4j')\n",
    "\n",
    "# Load csv\n",
    "df_company = pd.read_csv('../data/KnowledgeGraph/hidy.nodes.company.csv')\n",
    "df_compete = pd.read_csv('../data/KnowledgeGraph/hidy.relationships.compete.csv')\n",
    "df_cooperate = pd.read_csv('../data/KnowledgeGraph/hidy.relationships.cooperate.csv')\n",
    "df_dispute = pd.read_csv('../data/KnowledgeGraph/hidy.relationships.dispute.csv')\n",
    "df_same_industry = pd.read_csv('../data/KnowledgeGraph/hidy.relationships.same_industry.csv')\n",
    "df_invest = pd.read_csv('../data/KnowledgeGraph/hidy.relationships.invest.csv')\n",
    "df_supply = pd.read_csv('../data/KnowledgeGraph/hidy.relationships.supply.csv')\n",
    "\n",
    "# Define function to create nodes\n",
    "def create_node(name, id, code, label):\n",
    "    node = Node(\"Company\", name=name, id=id, code=code, label=label)\n",
    "    graph.create(node)\n",
    "\n",
    "\n",
    "# Loop to create nodes for every company in df\n",
    "for row in df_company.itertuples(index=False):\n",
    "    id = row[0]\n",
    "    name = row[1]\n",
    "    code = row[2]\n",
    "    label = row[3]\n",
    "\n",
    "    create_node(name, id, code, label)\n",
    "\n",
    "# Create relationship\n",
    "for row in df_compete.itertuples(index=False):\n",
    "    start_id = row[0]\n",
    "    end_id = row[1]\n",
    "    relation_type = row[2]\n",
    "    start_time = row[3]\n",
    "\n",
    "    start_node = graph.nodes.match(\"Company\", id=start_id).first()\n",
    "    end_node = graph.nodes.match(\"Company\", id=end_id).first()\n",
    "\n",
    "    if start_node and end_node:\n",
    "        relationship = Relationship(start_node, relation_type, end_node, start_time=start_time)\n",
    "        graph.create(relationship)\n",
    "\n",
    "        reverse_relationship = Relationship(end_node, relation_type, start_node, start_time=start_time)\n",
    "        graph.create(reverse_relationship)\n",
    "\n",
    "\n",
    "# Create relationship\n",
    "for row in df_cooperate.itertuples(index=False):\n",
    "    start_id = row[0]\n",
    "    end_id = row[1]\n",
    "    relation_type = row[2]\n",
    "    start_time = row[3]\n",
    "\n",
    "    start_node = graph.nodes.match(\"Company\", id=start_id).first()\n",
    "    end_node = graph.nodes.match(\"Company\", id=end_id).first()\n",
    "\n",
    "    if start_node and end_node:\n",
    "        relationship = Relationship(start_node, relation_type, end_node, start_time=start_time)\n",
    "        graph.create(relationship)\n",
    "\n",
    "        reverse_relationship = Relationship(end_node, relation_type, start_node, start_time=start_time)\n",
    "        graph.create(reverse_relationship)\n",
    "\n",
    "\n",
    "# Create relationship\n",
    "for row in df_dispute.itertuples(index=False):\n",
    "    start_id = row[0]\n",
    "    end_id = row[1]\n",
    "    relation_type = row[2]\n",
    "    start_time = row[3]\n",
    "\n",
    "    start_node = graph.nodes.match(\"Company\", id=start_id).first()\n",
    "    end_node = graph.nodes.match(\"Company\", id=end_id).first()\n",
    "\n",
    "    if start_node and end_node:\n",
    "        relationship = Relationship(start_node, relation_type, end_node, start_time=start_time)\n",
    "        graph.create(relationship)\n",
    "\n",
    "        reverse_relationship = Relationship(end_node, relation_type, start_node, start_time=start_time)\n",
    "        graph.create(reverse_relationship)\n",
    "\n",
    "\n",
    "# Create relationship\n",
    "for row in df_same_industry.itertuples(index=False):\n",
    "    start_id = row[0]\n",
    "    end_id = row[1]\n",
    "    relation_type = row[2]\n",
    "    start_time = row[3]\n",
    "\n",
    "    start_node = graph.nodes.match(\"Company\", id=start_id).first()\n",
    "    end_node = graph.nodes.match(\"Company\", id=end_id).first()\n",
    "\n",
    "    if start_node and end_node:\n",
    "        relationship = Relationship(start_node, relation_type, end_node, start_time=start_time)\n",
    "        graph.create(relationship)\n",
    "\n",
    "        reverse_relationship = Relationship(end_node, relation_type, start_node, start_time=start_time)\n",
    "        graph.create(reverse_relationship)\n",
    "\n",
    "\n",
    "# Create relationship\n",
    "for row in df_invest.itertuples(index=False):\n",
    "    start_id = row[0]\n",
    "    end_id = row[1]\n",
    "    relation_type = row[2]\n",
    "\n",
    "    start_node = graph.nodes.match(\"Company\", id=start_id).first()\n",
    "    end_node = graph.nodes.match(\"Company\", id=end_id).first()\n",
    "\n",
    "    if start_node and end_node:\n",
    "        relationship = Relationship(start_node, relation_type, end_node)\n",
    "        graph.create(relationship)\n",
    "\n",
    "\n",
    "# Create relationship\n",
    "for row in df_supply.itertuples(index=False):\n",
    "    start_id = row[0]\n",
    "    end_id = row[1]\n",
    "    relation_type = row[2]\n",
    "\n",
    "    start_node = graph.nodes.match(\"Company\", id=start_id).first()\n",
    "    end_node = graph.nodes.match(\"Company\", id=end_id).first()\n",
    "\n",
    "    if start_node and end_node:\n",
    "        relationship = Relationship(start_node, relation_type, end_node)\n",
    "        graph.create(relationship)"
   ],
   "metadata": {
    "collapsed": false
   },
   "id": "418ed27ccb66c19e"
  },
  {
   "cell_type": "markdown",
   "source": [
    "# Task2Q4: Knowledge-Driven Financial Analysis"
   ],
   "metadata": {
    "collapsed": false
   },
   "id": "a11e74b3cdafeb46"
  },
  {
   "cell_type": "code",
   "execution_count": 34,
   "outputs": [],
   "source": [
    "# Load EXCEL from task one\n",
    "df = pd.read_excel('../result/Task1.xlsx')"
   ],
   "metadata": {
    "collapsed": false,
    "ExecuteTime": {
     "end_time": "2023-11-01T19:24:37.147609900Z",
     "start_time": "2023-11-01T19:24:06.475371300Z"
    }
   },
   "id": "60520a75731b5cb4"
  },
  {
   "cell_type": "code",
   "execution_count": 51,
   "outputs": [],
   "source": [
    "# Define a function to get Implicit_Positive_Company\n",
    "def get_company_pos(explicit_company):\n",
    "        pos_company_list = []\n",
    "        explicit_company_list = explicit_company.split(',')\n",
    "        for i in explicit_company_list:\n",
    "            query_pos = f\"MATCH (c1:Company)-[:same_industry|supply|invest|cooperate]->(c2:Company) WHERE c1.name = '{i}'  RETURN DISTINCT c2.name UNION ALL MATCH (c1:Company)<-[:supply|invest]-(c2:Company) WHERE c1.name = '{i}' RETURN DISTINCT c2.name\"\n",
    "            results_pos = graph.run(query_pos).data()\n",
    "            for j in results_pos:\n",
    "                pos_company_list.append(j['c2.name'])\n",
    "        \n",
    "        uni_pos_company_list = list(dict.fromkeys(pos_company_list))  \n",
    "        return ','.join(uni_pos_company_list) if uni_pos_company_list else None\n",
    "\n",
    "# Define a function to get Implicit_Negative_Company\n",
    "def get_company_neg(explicit_company):\n",
    "        neg_company_list = []\n",
    "        explicit_company_list = explicit_company.split(',')\n",
    "        for i in explicit_company_list:\n",
    "            query_neg = f\"MATCH (c1:Company)-[:compete|dispute]->(c2:Company) WHERE c1.name = '{i}' RETURN DISTINCT c2.name\"\n",
    "            results_neg = graph.run(query_neg).data()\n",
    "            for j in results_neg:\n",
    "                neg_company_list.append(j['c2.name'])\n",
    "        \n",
    "        uni_neg_company_list = list(dict.fromkeys(neg_company_list))  \n",
    "        return ','.join(uni_neg_company_list) if uni_neg_company_list else None"
   ],
   "metadata": {
    "collapsed": false,
    "ExecuteTime": {
     "end_time": "2023-11-01T20:08:04.348073Z",
     "start_time": "2023-11-01T20:08:04.332449500Z"
    }
   },
   "id": "cc30d4c228fed388"
  },
  {
   "cell_type": "code",
   "execution_count": 57,
   "outputs": [],
   "source": [
    "# Apply the function to Explicit_Company\n",
    "df['Implicit_Positive_Company'] = df['Explicit_Company'].apply(get_company_pos)\n",
    "df['Implicit_Negative_Company'] = df['Explicit_Company'].apply(get_company_neg)"
   ],
   "metadata": {
    "collapsed": false,
    "ExecuteTime": {
     "end_time": "2023-11-01T21:45:32.497336500Z",
     "start_time": "2023-11-01T20:12:15.327245800Z"
    }
   },
   "id": "3e4c28fc450e601e"
  },
  {
   "cell_type": "code",
   "execution_count": 58,
   "outputs": [
    {
     "data": {
      "text/plain": "         NewsID                                        NewsContent  \\\n0             1  　　本报记者 田雨 李京华    　　中国建设银行股份有限公司原董事长张恩照受贿案３日一审宣...   \n1             2  　　中国农业银行信用卡中心由北京搬到上海了！  　　农行行长杨明生日前在信用卡中心揭牌仪式上...   \n2             3  　　在新基金快速发行以及申购资金回流的情况下，市场总体上呈现资金流动性过剩格局，考虑到现阶段...   \n3             4  　　胜利股份（000407）公司子公司填海造地2800亩，以青岛的地价估算，静态价值在10亿...   \n4             5  　　全景网11月30日讯 外围股市造好，带动港股今早造好，恒指高开后反覆上升，最高升252点...   \n...         ...                                                ...   \n495144  1037031  每经AI快讯，有投资者在投资者互动平台提问：请问公司目前有没有电解槽产能，规划情况能否详细介...   \n495145  1037032  依米康（SZ 300249，收盘价：10.38元）发布公告称，2023年10月12日，依米康...   \n495146  1037033  天风证券10月13日发布研报称，给予中核科技（000777.SZ，最新价：13.03元）买入...   \n495147  1037034  有投资者提问：抗癌药CPT获批后，公司是否应该按照股权协议继续收购沙东股权，适应症为MM的C...   \n495148  1037035  10月13日午间，根据恩捷股份发布的公告，持有公司股份5%以上的股东玉溪合益投资有限公司（下...   \n\n                 Explicit_Company  label  \\\n0                            建设银行      0   \n1                       中金公司,农业银行      1   \n2                       外运发展,中国国航      1   \n3                            胜利股份      1   \n4       *ST高升,交通银行,建设银行,中国银行,工商银行      1   \n...                           ...    ...   \n495144                        亿华通      1   \n495145                   中泰证券,依米康      1   \n495146                  中核科技,天风证券      1   \n495147                       海特生物      1   \n495148                       恩捷股份      0   \n\n                                Implicit_Positive_Company  \\\n0       兴业银行,晨鸣纸业,中国建筑,广电运通,中国石化,中国人寿,京东方,中国船舶,农业银行,中金...   \n1       上汽集团,中国电信,中信证券,宁德时代,中国船舶,工商银行,中国太保,东方财富,浙商银行,中...   \n2       中国外运,南方航空,寒武纪,农业银行,中国电建,兴业证券,中国石化,山航B,中国交建,工商银...   \n3                                                新疆浩源,特锐德   \n4       中国铁建,中国人寿,农业银行,中国银行,中国石油,连云港,风华高科,建设银行,申通地铁,宝丰...   \n...                                                   ...   \n495144              宝泰隆,福田汽车,东风汽车,百奥泰,仕佳光子,中国船舶,飞龙股份,东旭光电   \n495145  京东方,招商证券,中国银行,兴业证券,国泰君安,东方证券,智飞生物,东北证券,申万宏源,光大...   \n495146  中国核电,东吴证券,招商银行,长江证券,中信证券,恒生电子,凯撒文化,东北证券,方正证券,西...   \n495147                                          药明康德,海尔生物   \n495148  文科园林,宁德时代,太平洋证券,德尔股份,天赐材料,平安银行,金辰股份,福耀玻璃,中兴通讯,...   \n\n                                Implicit_Negative_Company  \n0                                                任子行,捷捷微电  \n1                                               交控科技,ST云维  \n2                                                    None  \n3                                                    None  \n4       *ST长生,中信国安,中国银行,华发股份,任子行,捷捷微电,山东黄金,中国平安,中国人保,海...  \n...                                                   ...  \n495144                                               None  \n495145                                          华谊嘉信,西水股份  \n495146                                     吉翔股份,中源家居,三特索道  \n495147                                               None  \n495148                                               None  \n\n[495149 rows x 6 columns]",
      "text/html": "<div>\n<style scoped>\n    .dataframe tbody tr th:only-of-type {\n        vertical-align: middle;\n    }\n\n    .dataframe tbody tr th {\n        vertical-align: top;\n    }\n\n    .dataframe thead th {\n        text-align: right;\n    }\n</style>\n<table border=\"1\" class=\"dataframe\">\n  <thead>\n    <tr style=\"text-align: right;\">\n      <th></th>\n      <th>NewsID</th>\n      <th>NewsContent</th>\n      <th>Explicit_Company</th>\n      <th>label</th>\n      <th>Implicit_Positive_Company</th>\n      <th>Implicit_Negative_Company</th>\n    </tr>\n  </thead>\n  <tbody>\n    <tr>\n      <th>0</th>\n      <td>1</td>\n      <td>本报记者 田雨 李京华    　　中国建设银行股份有限公司原董事长张恩照受贿案３日一审宣...</td>\n      <td>建设银行</td>\n      <td>0</td>\n      <td>兴业银行,晨鸣纸业,中国建筑,广电运通,中国石化,中国人寿,京东方,中国船舶,农业银行,中金...</td>\n      <td>任子行,捷捷微电</td>\n    </tr>\n    <tr>\n      <th>1</th>\n      <td>2</td>\n      <td>中国农业银行信用卡中心由北京搬到上海了！  　　农行行长杨明生日前在信用卡中心揭牌仪式上...</td>\n      <td>中金公司,农业银行</td>\n      <td>1</td>\n      <td>上汽集团,中国电信,中信证券,宁德时代,中国船舶,工商银行,中国太保,东方财富,浙商银行,中...</td>\n      <td>交控科技,ST云维</td>\n    </tr>\n    <tr>\n      <th>2</th>\n      <td>3</td>\n      <td>在新基金快速发行以及申购资金回流的情况下，市场总体上呈现资金流动性过剩格局，考虑到现阶段...</td>\n      <td>外运发展,中国国航</td>\n      <td>1</td>\n      <td>中国外运,南方航空,寒武纪,农业银行,中国电建,兴业证券,中国石化,山航B,中国交建,工商银...</td>\n      <td>None</td>\n    </tr>\n    <tr>\n      <th>3</th>\n      <td>4</td>\n      <td>胜利股份（000407）公司子公司填海造地2800亩，以青岛的地价估算，静态价值在10亿...</td>\n      <td>胜利股份</td>\n      <td>1</td>\n      <td>新疆浩源,特锐德</td>\n      <td>None</td>\n    </tr>\n    <tr>\n      <th>4</th>\n      <td>5</td>\n      <td>全景网11月30日讯 外围股市造好，带动港股今早造好，恒指高开后反覆上升，最高升252点...</td>\n      <td>*ST高升,交通银行,建设银行,中国银行,工商银行</td>\n      <td>1</td>\n      <td>中国铁建,中国人寿,农业银行,中国银行,中国石油,连云港,风华高科,建设银行,申通地铁,宝丰...</td>\n      <td>*ST长生,中信国安,中国银行,华发股份,任子行,捷捷微电,山东黄金,中国平安,中国人保,海...</td>\n    </tr>\n    <tr>\n      <th>...</th>\n      <td>...</td>\n      <td>...</td>\n      <td>...</td>\n      <td>...</td>\n      <td>...</td>\n      <td>...</td>\n    </tr>\n    <tr>\n      <th>495144</th>\n      <td>1037031</td>\n      <td>每经AI快讯，有投资者在投资者互动平台提问：请问公司目前有没有电解槽产能，规划情况能否详细介...</td>\n      <td>亿华通</td>\n      <td>1</td>\n      <td>宝泰隆,福田汽车,东风汽车,百奥泰,仕佳光子,中国船舶,飞龙股份,东旭光电</td>\n      <td>None</td>\n    </tr>\n    <tr>\n      <th>495145</th>\n      <td>1037032</td>\n      <td>依米康（SZ 300249，收盘价：10.38元）发布公告称，2023年10月12日，依米康...</td>\n      <td>中泰证券,依米康</td>\n      <td>1</td>\n      <td>京东方,招商证券,中国银行,兴业证券,国泰君安,东方证券,智飞生物,东北证券,申万宏源,光大...</td>\n      <td>华谊嘉信,西水股份</td>\n    </tr>\n    <tr>\n      <th>495146</th>\n      <td>1037033</td>\n      <td>天风证券10月13日发布研报称，给予中核科技（000777.SZ，最新价：13.03元）买入...</td>\n      <td>中核科技,天风证券</td>\n      <td>1</td>\n      <td>中国核电,东吴证券,招商银行,长江证券,中信证券,恒生电子,凯撒文化,东北证券,方正证券,西...</td>\n      <td>吉翔股份,中源家居,三特索道</td>\n    </tr>\n    <tr>\n      <th>495147</th>\n      <td>1037034</td>\n      <td>有投资者提问：抗癌药CPT获批后，公司是否应该按照股权协议继续收购沙东股权，适应症为MM的C...</td>\n      <td>海特生物</td>\n      <td>1</td>\n      <td>药明康德,海尔生物</td>\n      <td>None</td>\n    </tr>\n    <tr>\n      <th>495148</th>\n      <td>1037035</td>\n      <td>10月13日午间，根据恩捷股份发布的公告，持有公司股份5%以上的股东玉溪合益投资有限公司（下...</td>\n      <td>恩捷股份</td>\n      <td>0</td>\n      <td>文科园林,宁德时代,太平洋证券,德尔股份,天赐材料,平安银行,金辰股份,福耀玻璃,中兴通讯,...</td>\n      <td>None</td>\n    </tr>\n  </tbody>\n</table>\n<p>495149 rows × 6 columns</p>\n</div>"
     },
     "execution_count": 58,
     "metadata": {},
     "output_type": "execute_result"
    }
   ],
   "source": [
    "# Check\n",
    "df"
   ],
   "metadata": {
    "collapsed": false,
    "ExecuteTime": {
     "end_time": "2023-11-01T22:09:13.805581700Z",
     "start_time": "2023-11-01T22:09:13.789955800Z"
    }
   },
   "id": "a1c4304ab0671d28"
  },
  {
   "cell_type": "code",
   "execution_count": 59,
   "outputs": [
    {
     "name": "stderr",
     "output_type": "stream",
     "text": [
      "C:\\Users\\Lee\\miniconda3\\envs\\p5002\\lib\\site-packages\\pandas\\util\\_decorators.py:211: FutureWarning: the 'encoding' keyword is deprecated and will be removed in a future version. Please take steps to stop the use of 'encoding'\n",
      "  return func(*args, **kwargs)\n"
     ]
    }
   ],
   "source": [
    "# Save\n",
    "df.to_excel('../result/Task2.xlsx', encoding='utf-8', index=False)"
   ],
   "metadata": {
    "collapsed": false,
    "ExecuteTime": {
     "end_time": "2023-11-01T22:12:00.008723900Z",
     "start_time": "2023-11-01T22:10:02.703848600Z"
    }
   },
   "id": "e88809d5ee017c95"
  }
 ],
 "metadata": {
  "kernelspec": {
   "name": "p5002",
   "language": "python",
   "display_name": "p5002"
  },
  "language_info": {
   "codemirror_mode": {
    "name": "ipython",
    "version": 2
   },
   "file_extension": ".py",
   "mimetype": "text/x-python",
   "name": "python",
   "nbconvert_exporter": "python",
   "pygments_lexer": "ipython2",
   "version": "2.7.6"
  }
 },
 "nbformat": 4,
 "nbformat_minor": 5
}
